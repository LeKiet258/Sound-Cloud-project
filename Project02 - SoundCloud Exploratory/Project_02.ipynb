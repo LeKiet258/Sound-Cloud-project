{
 "cells": [
  {
   "cell_type": "markdown",
   "metadata": {},
   "source": [
    "## BẢNG PHÂN CÔNG\n",
    "| MSSV     | Họ và tên        | % đóng góp (tối đa 100%) | Chi   tiết công việc         |\n",
    "|----------|------------------|--------------------------|------------------------------|\n",
    "| 19120511 | Võ Văn Hiếu      | 100                      | câu 1,2                      |\n",
    "| 19120526 | Huỳnh Đức Huy    | 100                      | câu 1,2 + tiền xử lý dữ liệu |\n",
    "| 19120539 | Vương Thế Khang  | 100                      | câu 5,6                      |\n",
    "| 19120554 | Lê Kiệt          | 100                      | câu 3,4                      |\n",
    "| 19120586 | Nguyễn Phát Minh | 100                      | Tiền xử lý dữ liệu           |"
   ]
  },
  {
   "cell_type": "markdown",
   "metadata": {},
   "source": [
    "# THƯ VIỆN"
   ]
  },
  {
   "cell_type": "code",
   "execution_count": 1,
   "metadata": {},
   "outputs": [],
   "source": [
    "import pandas as pd\n",
    "import numpy as np\n",
    "import matplotlib.pyplot as plt\n",
    "import re\n",
    "import seaborn as sns"
   ]
  },
  {
   "cell_type": "markdown",
   "metadata": {},
   "source": [
    "# PHÂN TÍCH DỮ LIỆU\n"
   ]
  },
  {
   "cell_type": "markdown",
   "metadata": {},
   "source": [
    "## I. TIỀN XỬ LÝ DỮ LIỆU\n",
    "### 1. Dữ liệu có bao nhiêu dòng, bao nhiêu cột?"
   ]
  },
  {
   "cell_type": "code",
   "execution_count": 2,
   "metadata": {},
   "outputs": [
    {
     "data": {
      "text/plain": [
       "((6777, 6), (40004, 10), (22161, 7))"
      ]
     },
     "execution_count": 2,
     "metadata": {},
     "output_type": "execute_result"
    }
   ],
   "source": [
    "df_playlist = pd.read_csv(\"data/playlist.csv\")\n",
    "df_track    = pd.read_csv(\"data/track.csv\")\n",
    "df_user     = pd.read_csv(\"data/user.csv\")\n",
    "\n",
    "df_playlist.shape, df_track.shape, df_user.shape"
   ]
  },
  {
   "cell_type": "markdown",
   "metadata": {},
   "source": [
    "### 2. Các file dữ liệu có các dòng nào bị trùng lắp hoàn toàn không?\n",
    "- Thấy rằng từ output, không có dòng nào bị trùng lắp hoàn toàn trong từng file dữ liệu"
   ]
  },
  {
   "cell_type": "code",
   "execution_count": 3,
   "metadata": {},
   "outputs": [
    {
     "data": {
      "text/plain": [
       "(0, 0, 0)"
      ]
     },
     "execution_count": 3,
     "metadata": {},
     "output_type": "execute_result"
    }
   ],
   "source": [
    "df_playlist.duplicated().sum(), df_track.duplicated().sum(), df_user.duplicated().sum()"
   ]
  },
  {
   "cell_type": "markdown",
   "metadata": {},
   "source": [
    "### 3. Các file có dòng nào bị trùng id (playlist_id, track_id, user_id) không?\n",
    "- Vì dữ liệu là dữ liệu thời gian thực nên nên việc kiểm tra có dòng trùng nhau hoàn toàn hay không vẫn chưa đủ vì giả sử 2 playlist giống nhau nhưng giây trước có `likes_count` = 100, giây sau có thể `likes_count` = 101 và hiển nhiên đây sẽ là 2 dòng khác nhau do có thuộc tính `likes_count` khác nhau tuy chúng là 1 playlist. Vì vậy cần kiểm tra có tồn tại trùng id trong 3 file này hay không"
   ]
  },
  {
   "cell_type": "code",
   "execution_count": 4,
   "metadata": {},
   "outputs": [
    {
     "name": "stdout",
     "output_type": "stream",
     "text": [
      "Số dòng trùng playlist_id trong playlist.csv: 0\n",
      "Số dòng trùng track_id trong track.csv: 0\n",
      "Số dòng trùng user_id trong user.csv: 0\n"
     ]
    }
   ],
   "source": [
    "print('Số dòng trùng playlist_id trong playlist.csv:', df_playlist['playlist_id'].duplicated().sum())\n",
    "print('Số dòng trùng track_id trong track.csv:', df_track['track_id'].duplicated().sum())\n",
    "print('Số dòng trùng user_id trong user.csv:', df_user['user_id'].duplicated().sum())"
   ]
  },
  {
   "cell_type": "markdown",
   "metadata": {},
   "source": [
    "### 4. Mỗi cột thuộc kiểu dữ liệu nào? Có cột nào bị thiếu dữ liệu không?\n",
    "- Với mỗi file, kết hợp 2 công việc này vào 1 dataframe. Dataframe này gồm các cột chính là các cột thuộc tính trong lần lượt 3 file và 2 hàng có tên: \n",
    "    - `type` - thể hiện kiểu dữ liệu của các thuộc tính trong file\n",
    "    - `missing percentage` - mỗi cột thiếu bao nhiêu phần trăm dữ liệu  "
   ]
  },
  {
   "cell_type": "markdown",
   "metadata": {},
   "source": [
    "#### File `playlist.csv`:  Ta sẽ xem thử ứng với ý nghĩa mỗi cột trong file `playlist.csv` thì kiểu dữ liệu thể hiện đã phù hợp hay chưa, mỗi cột có bao nhiêu phần trăm giá trị thiếu. Biết các cột mang ý nghĩa sau (trích từ Project_01 của nhóm):\n",
    "\n",
    "| Thuộc tính      | Mô tả                                                                                       |\n",
    "| ---             | ---                                                                                         |\n",
    "| `playlist_id`   | ID của playlist, mỗi playlist có một ID riêng biệt, dùng để phân biệt với các playlsit khác |\n",
    "| `playlist_name` | Tựa đề của playlist                                                                         |\n",
    "| `genre`         | Thể loại của playlist                                                                       |\n",
    "| `likes_count`   | Số lượt thích của playlist                                                                  |\n",
    "| `reposts_count` | Số lượt chia sẻ của playlist                                                                |\n",
    "| `track_ids`     | ID của các track thuộc playlist, ngăn cách nhau mởi dấu ','                                 |\n"
   ]
  },
  {
   "cell_type": "code",
   "execution_count": 5,
   "metadata": {},
   "outputs": [
    {
     "data": {
      "text/html": [
       "<div>\n",
       "<style scoped>\n",
       "    .dataframe tbody tr th:only-of-type {\n",
       "        vertical-align: middle;\n",
       "    }\n",
       "\n",
       "    .dataframe tbody tr th {\n",
       "        vertical-align: top;\n",
       "    }\n",
       "\n",
       "    .dataframe thead th {\n",
       "        text-align: right;\n",
       "    }\n",
       "</style>\n",
       "<table border=\"1\" class=\"dataframe\">\n",
       "  <thead>\n",
       "    <tr style=\"text-align: right;\">\n",
       "      <th></th>\n",
       "      <th>playlist_id</th>\n",
       "      <th>playlist_name</th>\n",
       "      <th>genre</th>\n",
       "      <th>likes_count</th>\n",
       "      <th>reposts_count</th>\n",
       "      <th>track_ids</th>\n",
       "    </tr>\n",
       "  </thead>\n",
       "  <tbody>\n",
       "    <tr>\n",
       "      <th>type</th>\n",
       "      <td>int64</td>\n",
       "      <td>object</td>\n",
       "      <td>object</td>\n",
       "      <td>int64</td>\n",
       "      <td>int64</td>\n",
       "      <td>object</td>\n",
       "    </tr>\n",
       "    <tr>\n",
       "      <th>missing percentage</th>\n",
       "      <td>0.0</td>\n",
       "      <td>0.0</td>\n",
       "      <td>82.22</td>\n",
       "      <td>0.0</td>\n",
       "      <td>0.0</td>\n",
       "      <td>0.97</td>\n",
       "    </tr>\n",
       "  </tbody>\n",
       "</table>\n",
       "</div>"
      ],
      "text/plain": [
       "                   playlist_id playlist_name   genre likes_count  \\\n",
       "type                     int64        object  object       int64   \n",
       "missing percentage         0.0           0.0   82.22         0.0   \n",
       "\n",
       "                   reposts_count track_ids  \n",
       "type                       int64    object  \n",
       "missing percentage           0.0      0.97  "
      ]
     },
     "execution_count": 5,
     "metadata": {},
     "output_type": "execute_result"
    }
   ],
   "source": [
    "pd.DataFrame([df_playlist.dtypes, (df_playlist.isna().sum()/df_playlist.shape[0]*100).round(2)], index= ['type', 'missing percentage'])"
   ]
  },
  {
   "cell_type": "markdown",
   "metadata": {},
   "source": [
    "- **Nhận xét**: \n",
    "    - Có 0.97% playlist thiếu các track -> bỏ các playlist này\n",
    "    - Có 82.22% playlist chưa có thể loại `genre` -> điền khuyết dựa vào cột `playlist_name` (được trình bày rõ hơn ở các cell sau)\n",
    "    - Các cột đã thể hiện đúng kiểu dữ liệu"
   ]
  },
  {
   "cell_type": "markdown",
   "metadata": {},
   "source": [
    "#### File `track.csv`: Ta sẽ xem thử ứng với ý nghĩa mỗi cột trong file `track.csv` thì kiểu dữ liệu thể hiện đã phù hợp hay chưa, mỗi cột có bao nhiêu phần trăm giá trị thiếu. Biết các cột mang ý nghĩa sau (trích từ Project_01 của nhóm):\n",
    "\n",
    "| Thuộc tính       | Mô tả                                                                              |\n",
    "| ---              | ---                                                                                |\n",
    "| `track_id`       | ID của track, mỗi track có một ID riêng biệt, dùng để phân biệt với các track khác |\n",
    "| `track_name`     | Tên track                                                                          |\n",
    "| `track_genre`    | Thể loại của track                                                                 |\n",
    "| `author_id`      | ID user của người đăng tải track                                                   |\n",
    "| `likes_count`    | Số lượt thích của track                                                            |\n",
    "| `playback_count` | Số lượt nghe lại của track                                                         |\n",
    "| `download_count` | Số lượt tải của track                                                              |\n",
    "| `reposts_count`  | Số lượt chia sẻ của track                                                          |\n",
    "| `comment_count`  | Số bình luận của track                                                             |\n",
    "| `created_date`   | Chuỗi lưu ngày giờ track được đăng theo định dạng \"yyy-mm-ddTHH:MM:SSZ\"            |"
   ]
  },
  {
   "cell_type": "code",
   "execution_count": 6,
   "metadata": {},
   "outputs": [
    {
     "data": {
      "text/html": [
       "<div>\n",
       "<style scoped>\n",
       "    .dataframe tbody tr th:only-of-type {\n",
       "        vertical-align: middle;\n",
       "    }\n",
       "\n",
       "    .dataframe tbody tr th {\n",
       "        vertical-align: top;\n",
       "    }\n",
       "\n",
       "    .dataframe thead th {\n",
       "        text-align: right;\n",
       "    }\n",
       "</style>\n",
       "<table border=\"1\" class=\"dataframe\">\n",
       "  <thead>\n",
       "    <tr style=\"text-align: right;\">\n",
       "      <th></th>\n",
       "      <th>track_id</th>\n",
       "      <th>track_name</th>\n",
       "      <th>track_genre</th>\n",
       "      <th>author_id</th>\n",
       "      <th>likes_count</th>\n",
       "      <th>playback_count</th>\n",
       "      <th>download_count</th>\n",
       "      <th>reposts_count</th>\n",
       "      <th>comment_count</th>\n",
       "      <th>created_date</th>\n",
       "    </tr>\n",
       "  </thead>\n",
       "  <tbody>\n",
       "    <tr>\n",
       "      <th>type</th>\n",
       "      <td>int64</td>\n",
       "      <td>object</td>\n",
       "      <td>object</td>\n",
       "      <td>int64</td>\n",
       "      <td>float64</td>\n",
       "      <td>float64</td>\n",
       "      <td>float64</td>\n",
       "      <td>int64</td>\n",
       "      <td>float64</td>\n",
       "      <td>object</td>\n",
       "    </tr>\n",
       "    <tr>\n",
       "      <th>missing percentage</th>\n",
       "      <td>0.0</td>\n",
       "      <td>0.0</td>\n",
       "      <td>14.67</td>\n",
       "      <td>0.0</td>\n",
       "      <td>1.05</td>\n",
       "      <td>1.05</td>\n",
       "      <td>1.05</td>\n",
       "      <td>0.0</td>\n",
       "      <td>1.26</td>\n",
       "      <td>0.0</td>\n",
       "    </tr>\n",
       "  </tbody>\n",
       "</table>\n",
       "</div>"
      ],
      "text/plain": [
       "                   track_id track_name track_genre author_id likes_count  \\\n",
       "type                  int64     object      object     int64     float64   \n",
       "missing percentage      0.0        0.0       14.67       0.0        1.05   \n",
       "\n",
       "                   playback_count download_count reposts_count comment_count  \\\n",
       "type                      float64        float64         int64       float64   \n",
       "missing percentage           1.05           1.05           0.0          1.26   \n",
       "\n",
       "                   created_date  \n",
       "type                     object  \n",
       "missing percentage          0.0  "
      ]
     },
     "execution_count": 6,
     "metadata": {},
     "output_type": "execute_result"
    }
   ],
   "source": [
    "pd.DataFrame([df_track.dtypes, (df_track.isna().sum()/df_track.shape[0]*100).round(2)], index= ['type', 'missing percentage'])"
   ]
  },
  {
   "cell_type": "markdown",
   "metadata": {},
   "source": [
    "- **Nhận xét**:\n",
    "    - Có 14.67% track thiếu thể loại `genre` -> giữ nguyên và biến đổi thành list trống; 85.33% track có `genre` còn lại sẽ được điều chỉnh để khớp thể loại với file keywords.txt (trình bày rõ hơn ở các cell sau)\n",
    "    - `likes_count`, `playback_count`, `download_count`, `comment_count` thiếu hơn 1% dữ liệu -> bỏ các track bị thiếu 1 trong các thuộc tính này\n",
    "    - `likes_count`, `playback_count`, `download_count`, `comment_count` có kiểu dữ liệu chưa phù hợp -> đổi sang dạng int\n",
    "    - `created_date` có kiểu dữ liệu chưa phù hợp -> đổi sang dạng datetime"
   ]
  },
  {
   "cell_type": "markdown",
   "metadata": {},
   "source": [
    "#### File `user.csv`: Ta sẽ xem thử ứng với ý nghĩa mỗi cột trong file `user.csv` thì kiểu dữ liệu thể hiện đã phù hợp hay chưa, mỗi cột có bao nhiêu phần trăm giá trị thiếu. Biết các cột mang ý nghĩa sau (trích từ Project_01 của nhóm):\n",
    "\n",
    "| Thuộc tính        | Mô tả                                                                           |\n",
    "| ---               | ---                                                                             |\n",
    "| `user_id`         | ID của user, mỗi user có một ID riêng biệt, dùng để phân biệt với các user khác |\n",
    "| `full_name`       | Tên đầy đủ của user                                                             |\n",
    "| `username`        | Tên hiển thị usernam                                                            |\n",
    "| `followers_count` | Số người theo dõi của user                                                      |\n",
    "| `track_count`     | Số track đã đăng tải của user                                                   |\n",
    "| `country_code`    | Mã Alpha-2 chuẩn ISO 3166-1 của quốc gia của user                               |\n",
    "| `verified`        | `True` nếu user đã xác thực, `False` user chưa xác thực                         |"
   ]
  },
  {
   "cell_type": "code",
   "execution_count": 7,
   "metadata": {},
   "outputs": [
    {
     "data": {
      "text/html": [
       "<div>\n",
       "<style scoped>\n",
       "    .dataframe tbody tr th:only-of-type {\n",
       "        vertical-align: middle;\n",
       "    }\n",
       "\n",
       "    .dataframe tbody tr th {\n",
       "        vertical-align: top;\n",
       "    }\n",
       "\n",
       "    .dataframe thead th {\n",
       "        text-align: right;\n",
       "    }\n",
       "</style>\n",
       "<table border=\"1\" class=\"dataframe\">\n",
       "  <thead>\n",
       "    <tr style=\"text-align: right;\">\n",
       "      <th></th>\n",
       "      <th>user_id</th>\n",
       "      <th>full_name</th>\n",
       "      <th>username</th>\n",
       "      <th>followers_count</th>\n",
       "      <th>track_count</th>\n",
       "      <th>country_code</th>\n",
       "      <th>verified</th>\n",
       "    </tr>\n",
       "  </thead>\n",
       "  <tbody>\n",
       "    <tr>\n",
       "      <th>type</th>\n",
       "      <td>int64</td>\n",
       "      <td>object</td>\n",
       "      <td>object</td>\n",
       "      <td>int64</td>\n",
       "      <td>int64</td>\n",
       "      <td>object</td>\n",
       "      <td>bool</td>\n",
       "    </tr>\n",
       "    <tr>\n",
       "      <th>missing percentage</th>\n",
       "      <td>0.0</td>\n",
       "      <td>38.55</td>\n",
       "      <td>0.0</td>\n",
       "      <td>0.0</td>\n",
       "      <td>0.0</td>\n",
       "      <td>41.69</td>\n",
       "      <td>0.0</td>\n",
       "    </tr>\n",
       "  </tbody>\n",
       "</table>\n",
       "</div>"
      ],
      "text/plain": [
       "                   user_id full_name username followers_count track_count  \\\n",
       "type                 int64    object   object           int64       int64   \n",
       "missing percentage     0.0     38.55      0.0             0.0         0.0   \n",
       "\n",
       "                   country_code verified  \n",
       "type                     object     bool  \n",
       "missing percentage        41.69      0.0  "
      ]
     },
     "execution_count": 7,
     "metadata": {},
     "output_type": "execute_result"
    }
   ],
   "source": [
    "pd.DataFrame([df_user.dtypes, (df_user.isna().sum()/df_user.shape[0]*100).round(2)], index= ['type', 'missing percentage'])"
   ]
  },
  {
   "cell_type": "markdown",
   "metadata": {},
   "source": [
    "- **Nhận xét**: \n",
    "    - Tuy có tồn tại dữ liệu thiếu ở 2 cột `full_name` và `country_code` nhưng sẽ không bỏ các dữ liệu thiếu này mà sẽ giữ nguyên để đảm bảo có đủ dữ liệu phục vụ cho câu hỏi sau này\n",
    "    - Các cột đã có kiểu dữ liệu phù hợp"
   ]
  },
  {
   "cell_type": "markdown",
   "metadata": {},
   "source": [
    "### 5. Xử lý dòng bị thiếu dữ liệu "
   ]
  },
  {
   "cell_type": "markdown",
   "metadata": {},
   "source": [
    "#### a) Loại dòng thiếu dữ liệu"
   ]
  },
  {
   "cell_type": "markdown",
   "metadata": {},
   "source": [
    "-  File `playlist.csv`: Như đã nói từ các cell trước, cần loại đi các playlist không có track nào (tức thuộc tính `track_ids` bị thiếu). "
   ]
  },
  {
   "cell_type": "code",
   "execution_count": 8,
   "metadata": {},
   "outputs": [
    {
     "data": {
      "text/plain": [
       "(6711, 6)"
      ]
     },
     "execution_count": 8,
     "metadata": {},
     "output_type": "execute_result"
    }
   ],
   "source": [
    "df_playlist = df_playlist.dropna(subset=['track_ids'])\n",
    "df_playlist.shape"
   ]
  },
  {
   "cell_type": "markdown",
   "metadata": {},
   "source": [
    "- File `track.csv`: Như đã nói từ các cell trước, cần loại đi các dòng thiếu thuộc tính `likes_count`, `playback_count`, `download_count`, `comment_count` vì đây là các thuộc tính numeric quan trọng cho bước khám phá dữ liệu sau này"
   ]
  },
  {
   "cell_type": "code",
   "execution_count": 9,
   "metadata": {},
   "outputs": [
    {
     "data": {
      "text/plain": [
       "(39498, 10)"
      ]
     },
     "execution_count": 9,
     "metadata": {},
     "output_type": "execute_result"
    }
   ],
   "source": [
    "df_track = df_track.dropna(subset= ['likes_count', 'playback_count', 'download_count', 'comment_count'])\n",
    "df_track.shape"
   ]
  },
  {
   "cell_type": "markdown",
   "metadata": {},
   "source": [
    "#### b) Điền khuyết giá trị thiếu"
   ]
  },
  {
   "cell_type": "markdown",
   "metadata": {},
   "source": [
    "- Trong file `playlist.csv`, có 3 vấn đề liên quan tới cột `genre`: \n",
    "    - <font color='red'>_Vấn đề 1_</font>: cột `genre` bị thiếu khá nhiều nên ta không loại các dòng thiếu `genre` được vì sẽ không đủ dữ liệu để phân tích sau này \n",
    "    <br>=> Giải pháp: nội suy từ cột `playlist_name`. Từ quan sát file, thấy rằng hầu hết tên playlist có xu hướng thể hiện luôn thể loại của playlist đó. VD: `playlist_name` = *\"Hip Hop Supreme\"* thì có thể nội suy được thể loại là **hiphop**\n",
    "\n",
    "    - <font color='red'>_Vấn đề 2_</font>: 1 playlist có thể có nhiều thể loại (dù thiếu hay không thiếu thuộc tính `genre`) \n",
    "        - VD 1 (thiếu thuộc tính `genre`): nếu`playlist_name` = *\"| Chill | Lofi | Hip Hop |\"* thì playlist đó có tới 3 thể loại: **[chill, lofi, hiphop]**. \n",
    "        - VD 2 (không thiếu thiếu thuộc tính `genre`): `genre` = *\"LoFi hip hop\"* thì playlist đó có tới 2 thể loại là **[lofi, hiphop]**.     \n",
    "<br>=> Giải pháp: thuộc tính `genre` của mỗi playlist sẽ là list các string thể hiện cho các thể loại thay vì chỉ là 1 string thể hiện cho 1 thể loại</br>\n",
    "    \n",
    "    - <font color='red'>_Vấn đề 3_</font>: giả sử giải quyết được 2 vấn đề trên thì thấy rằng tên thể loại vẫn chưa đồng nhất (VD: `genre` = *\"Blue's_Music\"* và `genre` = *\"blues\"*)\n",
    "    <br>=> Giải pháp: cần 1 file `keywords.txt` để lưu cứng tên của các thể loại nhạc sẽ xuất hiện trong chuỗi string `genre` (file này được lấy từ project 1 và được tinh chỉnh lại để phù hợp). Ta sẽ chuẩn hóa thể loại dựa vào file này: xét chuỗi thể loại (VD: `genre` = *\"Hip-hop & Rap\"*), nếu chuỗi thể loại này chứa bất kỳ chuỗi con trong `keywords.txt` (VD: *\"hiphop\"* và *\"rap\"*) thì thể loại sẽ được thay bằng (tập) chuỗi con ấy (VD: `genre` sau khi chuẩn hóa = *[\"hiphop\", \"rap\"]*)\n",
    "- Kết hợp cả 3 giải pháp trên, ta được cách xử lý sau: \n",
    "    - Bước 1: Cộng 2 cột 'playlist_name' & 'genre', nếu 'genre' là NaN thì coi như chuỗi rỗng, kết quả cộng chuỗi lưu vào `df_playlist['genre']`\n",
    "    - Bước 2: Chuẩn hóa `name_genre` theo giải pháp 3, kết quả sau khi chuẩn hóa là 1 list, lưu lại vào `name_genre`. Sau khi chuẩn hóa có thể vẫn tồn tại NaN nhưng ít hơn (NaN tồn tại là vì cột `playlist_name` không chứa thể loại nhạc nào nên không nội suy được + cột `genre` bị rỗng). Các giá trị NaN sẽ được chuyển thành list rỗng"
   ]
  },
  {
   "cell_type": "markdown",
   "metadata": {},
   "source": [
    "##### Đọc dữ liệu từ file `keywords.txt` vào mảng keywords.txt"
   ]
  },
  {
   "cell_type": "code",
   "execution_count": 10,
   "metadata": {},
   "outputs": [],
   "source": [
    "with open('data/keywords.txt', encoding= 'utf-8') as f:\n",
    "    keywords = f.readlines()\n",
    "keywords = [item.strip('\\n').strip(' ') for item in keywords]"
   ]
  },
  {
   "cell_type": "markdown",
   "metadata": {},
   "source": [
    "##### Bước 1: Cộng 2 cột 'playlist_name' & 'genre', nếu 'genre' là NaN thì coi như chuỗi rỗng, kết quả cộng chuỗi lưu vào `df_playlist['genre']`"
   ]
  },
  {
   "cell_type": "code",
   "execution_count": 11,
   "metadata": {},
   "outputs": [],
   "source": [
    "# namegenre = playlist_name + playlist_genre\n",
    "name_genre = df_playlist.apply(lambda row: row['playlist_name'] if pd.isna(row['genre']) \n",
    "                                                                else row['playlist_name'] + row['genre'], axis = 1)"
   ]
  },
  {
   "cell_type": "markdown",
   "metadata": {},
   "source": [
    "##### Bước 2: Chuẩn hóa `name_genre` theo giải pháp 3, kết quả sau khi chuẩn hóa là 1 list, lưu lại vào `name_genre`. Sau khi chuẩn hóa có thể vẫn tồn tại NaN nhưng ít hơn (NaN tồn tại là vì cột `playlist_name` không chứa thể loại nhạc nào nên không nội suy được + cột `genre` bị rỗng). Các giá trị NaN sẽ được chuyển thành list rỗng"
   ]
  },
  {
   "cell_type": "code",
   "execution_count": 12,
   "metadata": {},
   "outputs": [
    {
     "data": {
      "text/html": [
       "<div>\n",
       "<style scoped>\n",
       "    .dataframe tbody tr th:only-of-type {\n",
       "        vertical-align: middle;\n",
       "    }\n",
       "\n",
       "    .dataframe tbody tr th {\n",
       "        vertical-align: top;\n",
       "    }\n",
       "\n",
       "    .dataframe thead th {\n",
       "        text-align: right;\n",
       "    }\n",
       "</style>\n",
       "<table border=\"1\" class=\"dataframe\">\n",
       "  <thead>\n",
       "    <tr style=\"text-align: right;\">\n",
       "      <th></th>\n",
       "      <th>playlist_id</th>\n",
       "      <th>playlist_name</th>\n",
       "      <th>genre</th>\n",
       "      <th>likes_count</th>\n",
       "      <th>reposts_count</th>\n",
       "      <th>track_ids</th>\n",
       "    </tr>\n",
       "  </thead>\n",
       "  <tbody>\n",
       "    <tr>\n",
       "      <th>0</th>\n",
       "      <td>730118454</td>\n",
       "      <td>Best Rap Right Now: Drippin'</td>\n",
       "      <td>[hiphop, rap]</td>\n",
       "      <td>389440</td>\n",
       "      <td>21590</td>\n",
       "      <td>1175290570,1163320396,1150594213,1126802848,11...</td>\n",
       "    </tr>\n",
       "    <tr>\n",
       "      <th>1</th>\n",
       "      <td>380154338</td>\n",
       "      <td>Hip Hop Supreme</td>\n",
       "      <td>[hiphop]</td>\n",
       "      <td>178872</td>\n",
       "      <td>9795</td>\n",
       "      <td>594112890,596212962,593601912,597082389,597563...</td>\n",
       "    </tr>\n",
       "    <tr>\n",
       "      <th>2</th>\n",
       "      <td>306226961</td>\n",
       "      <td>Lowfi hip hop chills</td>\n",
       "      <td>[hiphop, chill, lofi]</td>\n",
       "      <td>203955</td>\n",
       "      <td>20706</td>\n",
       "      <td>216774635,406234053,755194606,266707458,670884...</td>\n",
       "    </tr>\n",
       "    <tr>\n",
       "      <th>3</th>\n",
       "      <td>730129140</td>\n",
       "      <td>Hip-Hop Party Starters: Turn Up</td>\n",
       "      <td>[hiphop, rap]</td>\n",
       "      <td>106087</td>\n",
       "      <td>4498</td>\n",
       "      <td>1174777750,1118019910,1052667649,1099546222,11...</td>\n",
       "    </tr>\n",
       "    <tr>\n",
       "      <th>4</th>\n",
       "      <td>595582668</td>\n",
       "      <td>Study &amp; Chill | Lofi Hiphop</td>\n",
       "      <td>[hiphop, chill, lofi]</td>\n",
       "      <td>95519</td>\n",
       "      <td>5951</td>\n",
       "      <td>483466125,434763492,473421939,194708585,754271...</td>\n",
       "    </tr>\n",
       "    <tr>\n",
       "      <th>...</th>\n",
       "      <td>...</td>\n",
       "      <td>...</td>\n",
       "      <td>...</td>\n",
       "      <td>...</td>\n",
       "      <td>...</td>\n",
       "      <td>...</td>\n",
       "    </tr>\n",
       "    <tr>\n",
       "      <th>6772</th>\n",
       "      <td>874102157</td>\n",
       "      <td>Southeast Asia</td>\n",
       "      <td>[asia]</td>\n",
       "      <td>0</td>\n",
       "      <td>0</td>\n",
       "      <td>645192084,301217399,445266303,497328030,243885...</td>\n",
       "    </tr>\n",
       "    <tr>\n",
       "      <th>6773</th>\n",
       "      <td>163153799</td>\n",
       "      <td>og</td>\n",
       "      <td>[]</td>\n",
       "      <td>2</td>\n",
       "      <td>0</td>\n",
       "      <td>201641570,203067189,202303312,153309224,127237...</td>\n",
       "    </tr>\n",
       "    <tr>\n",
       "      <th>6774</th>\n",
       "      <td>161954207</td>\n",
       "      <td>Understanding Southeast Asia</td>\n",
       "      <td>[asia]</td>\n",
       "      <td>1</td>\n",
       "      <td>1</td>\n",
       "      <td>236643473,235582652,231384822,248514720</td>\n",
       "    </tr>\n",
       "    <tr>\n",
       "      <th>6775</th>\n",
       "      <td>6217649</td>\n",
       "      <td>King</td>\n",
       "      <td>[]</td>\n",
       "      <td>0</td>\n",
       "      <td>0</td>\n",
       "      <td>84607913,83434103,81824297,85106607,81948650,8...</td>\n",
       "    </tr>\n",
       "    <tr>\n",
       "      <th>6776</th>\n",
       "      <td>76804982</td>\n",
       "      <td>Thacity314... Hoodwi$e MidWe$t CityBoi &amp; $outh...</td>\n",
       "      <td>[]</td>\n",
       "      <td>2</td>\n",
       "      <td>0</td>\n",
       "      <td>188774073,188773222,188772689,117312940,753268...</td>\n",
       "    </tr>\n",
       "  </tbody>\n",
       "</table>\n",
       "<p>6711 rows × 6 columns</p>\n",
       "</div>"
      ],
      "text/plain": [
       "      playlist_id                                      playlist_name  \\\n",
       "0       730118454                       Best Rap Right Now: Drippin'   \n",
       "1       380154338                                    Hip Hop Supreme   \n",
       "2       306226961                               Lowfi hip hop chills   \n",
       "3       730129140                    Hip-Hop Party Starters: Turn Up   \n",
       "4       595582668                        Study & Chill | Lofi Hiphop   \n",
       "...           ...                                                ...   \n",
       "6772    874102157                                     Southeast Asia   \n",
       "6773    163153799                                                 og   \n",
       "6774    161954207                       Understanding Southeast Asia   \n",
       "6775      6217649                                               King   \n",
       "6776     76804982  Thacity314... Hoodwi$e MidWe$t CityBoi & $outh...   \n",
       "\n",
       "                      genre  likes_count  reposts_count  \\\n",
       "0             [hiphop, rap]       389440          21590   \n",
       "1                  [hiphop]       178872           9795   \n",
       "2     [hiphop, chill, lofi]       203955          20706   \n",
       "3             [hiphop, rap]       106087           4498   \n",
       "4     [hiphop, chill, lofi]        95519           5951   \n",
       "...                     ...          ...            ...   \n",
       "6772                 [asia]            0              0   \n",
       "6773                     []            2              0   \n",
       "6774                 [asia]            1              1   \n",
       "6775                     []            0              0   \n",
       "6776                     []            2              0   \n",
       "\n",
       "                                              track_ids  \n",
       "0     1175290570,1163320396,1150594213,1126802848,11...  \n",
       "1     594112890,596212962,593601912,597082389,597563...  \n",
       "2     216774635,406234053,755194606,266707458,670884...  \n",
       "3     1174777750,1118019910,1052667649,1099546222,11...  \n",
       "4     483466125,434763492,473421939,194708585,754271...  \n",
       "...                                                 ...  \n",
       "6772  645192084,301217399,445266303,497328030,243885...  \n",
       "6773  201641570,203067189,202303312,153309224,127237...  \n",
       "6774            236643473,235582652,231384822,248514720  \n",
       "6775  84607913,83434103,81824297,85106607,81948650,8...  \n",
       "6776  188774073,188773222,188772689,117312940,753268...  \n",
       "\n",
       "[6711 rows x 6 columns]"
      ]
     },
     "execution_count": 12,
     "metadata": {},
     "output_type": "execute_result"
    }
   ],
   "source": [
    "def list_genres(genre_str, keywords=keywords):\n",
    "    res = []\n",
    "\n",
    "    for keyword in keywords:\n",
    "        if keyword in genre_str:\n",
    "            res.append(keyword)\n",
    "    return res\n",
    "\n",
    "df_playlist['genre'] = name_genre.apply(lambda val: [] if pd.isna(val) else list_genres(re.sub(r'[\\-\\.\\/ ]', '', val.lower())))\n",
    "df_playlist"
   ]
  },
  {
   "cell_type": "markdown",
   "metadata": {},
   "source": [
    "- Trong file `track.csv`, ta làm tương tự các bước như xử lý `genre` của `playlist.csv`, chỉ khác ở bước 1 ta không cộng với `track_name` vì `track_name` không nội suy được thể loại của track như `playlist_name`  "
   ]
  },
  {
   "cell_type": "code",
   "execution_count": 13,
   "metadata": {
    "scrolled": false
   },
   "outputs": [
    {
     "data": {
      "text/html": [
       "<div>\n",
       "<style scoped>\n",
       "    .dataframe tbody tr th:only-of-type {\n",
       "        vertical-align: middle;\n",
       "    }\n",
       "\n",
       "    .dataframe tbody tr th {\n",
       "        vertical-align: top;\n",
       "    }\n",
       "\n",
       "    .dataframe thead th {\n",
       "        text-align: right;\n",
       "    }\n",
       "</style>\n",
       "<table border=\"1\" class=\"dataframe\">\n",
       "  <thead>\n",
       "    <tr style=\"text-align: right;\">\n",
       "      <th></th>\n",
       "      <th>track_id</th>\n",
       "      <th>track_name</th>\n",
       "      <th>track_genre</th>\n",
       "      <th>author_id</th>\n",
       "      <th>likes_count</th>\n",
       "      <th>playback_count</th>\n",
       "      <th>download_count</th>\n",
       "      <th>reposts_count</th>\n",
       "      <th>comment_count</th>\n",
       "      <th>created_date</th>\n",
       "    </tr>\n",
       "  </thead>\n",
       "  <tbody>\n",
       "    <tr>\n",
       "      <th>0</th>\n",
       "      <td>1157194048</td>\n",
       "      <td>Polo G - Bad Man (Smooth Criminal)</td>\n",
       "      <td>[hiphop]</td>\n",
       "      <td>454955073</td>\n",
       "      <td>104933.0</td>\n",
       "      <td>3656798.0</td>\n",
       "      <td>0.0</td>\n",
       "      <td>1484</td>\n",
       "      <td>2949.0</td>\n",
       "      <td>2021-11-10T00:16:07Z</td>\n",
       "    </tr>\n",
       "    <tr>\n",
       "      <th>1</th>\n",
       "      <td>1134572425</td>\n",
       "      <td>Who Want Smoke?? (feat. G Herbo, Lil Durk &amp; 21...</td>\n",
       "      <td>[hiphop]</td>\n",
       "      <td>811818505</td>\n",
       "      <td>229321.0</td>\n",
       "      <td>11713134.0</td>\n",
       "      <td>0.0</td>\n",
       "      <td>2994</td>\n",
       "      <td>7358.0</td>\n",
       "      <td>2021-10-01T21:15:32Z</td>\n",
       "    </tr>\n",
       "    <tr>\n",
       "      <th>2</th>\n",
       "      <td>1126802848</td>\n",
       "      <td>Rocc Climbing (feat. Lil Yachty)</td>\n",
       "      <td>[hiphop, rap]</td>\n",
       "      <td>277094000</td>\n",
       "      <td>191418.0</td>\n",
       "      <td>8635832.0</td>\n",
       "      <td>0.0</td>\n",
       "      <td>9338</td>\n",
       "      <td>3428.0</td>\n",
       "      <td>2021-09-18T08:16:48Z</td>\n",
       "    </tr>\n",
       "    <tr>\n",
       "      <th>3</th>\n",
       "      <td>1163320396</td>\n",
       "      <td>By Your Side</td>\n",
       "      <td>[rap]</td>\n",
       "      <td>29550459</td>\n",
       "      <td>84417.0</td>\n",
       "      <td>2861345.0</td>\n",
       "      <td>0.0</td>\n",
       "      <td>952</td>\n",
       "      <td>1064.0</td>\n",
       "      <td>2021-11-19T21:15:58Z</td>\n",
       "    </tr>\n",
       "    <tr>\n",
       "      <th>4</th>\n",
       "      <td>1150594213</td>\n",
       "      <td>Super Gremlin</td>\n",
       "      <td>[hiphop, rap]</td>\n",
       "      <td>72181005</td>\n",
       "      <td>180822.0</td>\n",
       "      <td>6808317.0</td>\n",
       "      <td>0.0</td>\n",
       "      <td>1826</td>\n",
       "      <td>2265.0</td>\n",
       "      <td>2021-10-30T03:48:49Z</td>\n",
       "    </tr>\n",
       "  </tbody>\n",
       "</table>\n",
       "</div>"
      ],
      "text/plain": [
       "     track_id                                         track_name  \\\n",
       "0  1157194048                 Polo G - Bad Man (Smooth Criminal)   \n",
       "1  1134572425  Who Want Smoke?? (feat. G Herbo, Lil Durk & 21...   \n",
       "2  1126802848                   Rocc Climbing (feat. Lil Yachty)   \n",
       "3  1163320396                                       By Your Side   \n",
       "4  1150594213                                      Super Gremlin   \n",
       "\n",
       "     track_genre  author_id  likes_count  playback_count  download_count  \\\n",
       "0       [hiphop]  454955073     104933.0       3656798.0             0.0   \n",
       "1       [hiphop]  811818505     229321.0      11713134.0             0.0   \n",
       "2  [hiphop, rap]  277094000     191418.0       8635832.0             0.0   \n",
       "3          [rap]   29550459      84417.0       2861345.0             0.0   \n",
       "4  [hiphop, rap]   72181005     180822.0       6808317.0             0.0   \n",
       "\n",
       "   reposts_count  comment_count          created_date  \n",
       "0           1484         2949.0  2021-11-10T00:16:07Z  \n",
       "1           2994         7358.0  2021-10-01T21:15:32Z  \n",
       "2           9338         3428.0  2021-09-18T08:16:48Z  \n",
       "3            952         1064.0  2021-11-19T21:15:58Z  \n",
       "4           1826         2265.0  2021-10-30T03:48:49Z  "
      ]
     },
     "execution_count": 13,
     "metadata": {},
     "output_type": "execute_result"
    }
   ],
   "source": [
    "df_track['track_genre'] = df_track['track_genre'].apply(lambda val: [] if pd.isna(val) \n",
    "                                                                    else list_genres(re.sub(r'[\\-\\.\\/ ]', '', val.lower())))\n",
    "df_track.head()"
   ]
  },
  {
   "cell_type": "markdown",
   "metadata": {},
   "source": [
    "### 6. Chuyển đổi kiểu dữ liệu cho phù hợp\n"
   ]
  },
  {
   "cell_type": "markdown",
   "metadata": {},
   "source": [
    "- File `track.csv`: \n",
    "    - Cần đổi kiểu dữ liệu của 2 cột `likes_count`, `playback_count`từ **float** sang **int**\n",
    "    - Cần đổi kiểu dữ liệu của `created_date` sang kiểu **datetime**"
   ]
  },
  {
   "cell_type": "code",
   "execution_count": 14,
   "metadata": {},
   "outputs": [],
   "source": [
    "df_track[['likes_count', 'playback_count', 'download_count', 'reposts_count', 'comment_count']] = df_track[['likes_count', 'playback_count', 'download_count', 'reposts_count', 'comment_count']].astype(int)\n",
    "df_track['created_date'] = pd.to_datetime(df_track['created_date'])"
   ]
  },
  {
   "cell_type": "markdown",
   "metadata": {},
   "source": [
    "# II. KHÁM PHÁ DỮ LIỆU"
   ]
  },
  {
   "cell_type": "markdown",
   "metadata": {},
   "source": [
    "## 1. Thể loại phổ biến/được yêu thích/được nghe nhiều/được tương tác nhiều nhất trong năm 2020"
   ]
  },
  {
   "cell_type": "markdown",
   "metadata": {},
   "source": [
    "- **Mục đích:** Trả lời được câu hỏi này giúp ta biết được xu hướng âm nhạc trong năm gần đây nhất, tức năm 2020.\n",
    "- **Bộ dữ liệu**: track.csv\n",
    "- **Các bước thực hiện:**\n",
    "    - Xác định các tracks được đăng vào năm 2020 (kết quả lưu vào `df_track_2020`)\n",
    "    - Thống kê phần trăm số track, like, playback và comment của từng thể loại (kết quả lưu vào `df_track_genre_stat`)\n",
    "    - Tỉ lệ số track của một thể loại là tỉ lệ so với tổng số track tìm được và ứng với **độ phổ biến** của thể loại đó\n",
    "    - Tỉ lệ số like của một thể loại là tỉ lệ so với tổng số like của các track tìm được và ứng với **độ yêu thích** của thể loại đó\n",
    "    - Tỉ lệ số lượt playback của một thể loại là tỉ lệ so với tổng số lượt playback của các track tìm được và ứng với **số lượt nghe** của thể loại đó\n",
    "    - Tỉ lệ số comment của một thể loại là tỉ lệ so với tổng số comment của các track tìm được ứng với **độ tương tác** của người dùng với các track thuộc thể loại đó\n",
    "    - Vẽ biểu đồ cột và nhận xét"
   ]
  },
  {
   "cell_type": "markdown",
   "metadata": {},
   "source": [
    "### Bước 1: Xác định các track được đăng vào năm 2020"
   ]
  },
  {
   "cell_type": "code",
   "execution_count": 15,
   "metadata": {},
   "outputs": [
    {
     "data": {
      "text/html": [
       "<div>\n",
       "<style scoped>\n",
       "    .dataframe tbody tr th:only-of-type {\n",
       "        vertical-align: middle;\n",
       "    }\n",
       "\n",
       "    .dataframe tbody tr th {\n",
       "        vertical-align: top;\n",
       "    }\n",
       "\n",
       "    .dataframe thead th {\n",
       "        text-align: right;\n",
       "    }\n",
       "</style>\n",
       "<table border=\"1\" class=\"dataframe\">\n",
       "  <thead>\n",
       "    <tr style=\"text-align: right;\">\n",
       "      <th></th>\n",
       "      <th>track_id</th>\n",
       "      <th>track_name</th>\n",
       "      <th>track_genre</th>\n",
       "      <th>author_id</th>\n",
       "      <th>likes_count</th>\n",
       "      <th>playback_count</th>\n",
       "      <th>download_count</th>\n",
       "      <th>reposts_count</th>\n",
       "      <th>comment_count</th>\n",
       "      <th>created_date</th>\n",
       "    </tr>\n",
       "  </thead>\n",
       "  <tbody>\n",
       "    <tr>\n",
       "      <th>32</th>\n",
       "      <td>755194606</td>\n",
       "      <td>take your time w/ Gavin Stacey</td>\n",
       "      <td>[chill]</td>\n",
       "      <td>173815195</td>\n",
       "      <td>352</td>\n",
       "      <td>60196</td>\n",
       "      <td>0</td>\n",
       "      <td>19</td>\n",
       "      <td>9</td>\n",
       "      <td>2020-02-05 00:15:08+00:00</td>\n",
       "    </tr>\n",
       "    <tr>\n",
       "      <th>39</th>\n",
       "      <td>869432971</td>\n",
       "      <td>my block</td>\n",
       "      <td>[hiphop, lofi]</td>\n",
       "      <td>173815195</td>\n",
       "      <td>180</td>\n",
       "      <td>19939</td>\n",
       "      <td>0</td>\n",
       "      <td>3</td>\n",
       "      <td>6</td>\n",
       "      <td>2020-08-03 15:19:31+00:00</td>\n",
       "    </tr>\n",
       "    <tr>\n",
       "      <th>43</th>\n",
       "      <td>755431168</td>\n",
       "      <td>brava</td>\n",
       "      <td>[]</td>\n",
       "      <td>1821566</td>\n",
       "      <td>719</td>\n",
       "      <td>46597</td>\n",
       "      <td>1</td>\n",
       "      <td>93</td>\n",
       "      <td>42</td>\n",
       "      <td>2020-02-05 12:58:07+00:00</td>\n",
       "    </tr>\n",
       "    <tr>\n",
       "      <th>61</th>\n",
       "      <td>754271845</td>\n",
       "      <td>there's a storm outside my window (Available o...</td>\n",
       "      <td>[]</td>\n",
       "      <td>238168640</td>\n",
       "      <td>2667</td>\n",
       "      <td>588029</td>\n",
       "      <td>0</td>\n",
       "      <td>58</td>\n",
       "      <td>89</td>\n",
       "      <td>2020-02-03 11:15:32+00:00</td>\n",
       "    </tr>\n",
       "    <tr>\n",
       "      <th>109</th>\n",
       "      <td>870653725</td>\n",
       "      <td>Rags to Riches 2 (feat. Lil Baby)</td>\n",
       "      <td>[hiphop, rap]</td>\n",
       "      <td>29550459</td>\n",
       "      <td>274332</td>\n",
       "      <td>18337445</td>\n",
       "      <td>0</td>\n",
       "      <td>4478</td>\n",
       "      <td>14865</td>\n",
       "      <td>2020-08-05 15:54:16+00:00</td>\n",
       "    </tr>\n",
       "  </tbody>\n",
       "</table>\n",
       "</div>"
      ],
      "text/plain": [
       "      track_id                                         track_name  \\\n",
       "32   755194606                     take your time w/ Gavin Stacey   \n",
       "39   869432971                                           my block   \n",
       "43   755431168                                              brava   \n",
       "61   754271845  there's a storm outside my window (Available o...   \n",
       "109  870653725                  Rags to Riches 2 (feat. Lil Baby)   \n",
       "\n",
       "        track_genre  author_id  likes_count  playback_count  download_count  \\\n",
       "32          [chill]  173815195          352           60196               0   \n",
       "39   [hiphop, lofi]  173815195          180           19939               0   \n",
       "43               []    1821566          719           46597               1   \n",
       "61               []  238168640         2667          588029               0   \n",
       "109   [hiphop, rap]   29550459       274332        18337445               0   \n",
       "\n",
       "     reposts_count  comment_count              created_date  \n",
       "32              19              9 2020-02-05 00:15:08+00:00  \n",
       "39               3              6 2020-08-03 15:19:31+00:00  \n",
       "43              93             42 2020-02-05 12:58:07+00:00  \n",
       "61              58             89 2020-02-03 11:15:32+00:00  \n",
       "109           4478          14865 2020-08-05 15:54:16+00:00  "
      ]
     },
     "execution_count": 15,
     "metadata": {},
     "output_type": "execute_result"
    }
   ],
   "source": [
    "df_track_2020 = df_track.loc[df_track['created_date'].dt.year == 2020]\n",
    "\n",
    "total_tracks_count   = len(df_track_2020)\n",
    "total_likes_count    = df_track_2020['likes_count'].sum()\n",
    "total_playback_count = df_track_2020['playback_count'].sum()\n",
    "total_comment_count  = df_track_2020['comment_count'].sum()\n",
    "\n",
    "df_track_2020.head()"
   ]
  },
  {
   "cell_type": "markdown",
   "metadata": {},
   "source": [
    "### Bước 2: Thống kê phần trăm số track, like, playback và comment của từng thể loại"
   ]
  },
  {
   "cell_type": "code",
   "execution_count": 16,
   "metadata": {
    "scrolled": true
   },
   "outputs": [
    {
     "data": {
      "text/html": [
       "<div>\n",
       "<style scoped>\n",
       "    .dataframe tbody tr th:only-of-type {\n",
       "        vertical-align: middle;\n",
       "    }\n",
       "\n",
       "    .dataframe tbody tr th {\n",
       "        vertical-align: top;\n",
       "    }\n",
       "\n",
       "    .dataframe thead th {\n",
       "        text-align: right;\n",
       "    }\n",
       "</style>\n",
       "<table border=\"1\" class=\"dataframe\">\n",
       "  <thead>\n",
       "    <tr style=\"text-align: right;\">\n",
       "      <th></th>\n",
       "      <th>tracks_percentage</th>\n",
       "      <th>likes_percentage</th>\n",
       "      <th>playback_percentage</th>\n",
       "      <th>comment_percentage</th>\n",
       "    </tr>\n",
       "  </thead>\n",
       "  <tbody>\n",
       "    <tr>\n",
       "      <th>hiphop</th>\n",
       "      <td>12.692967</td>\n",
       "      <td>54.330660</td>\n",
       "      <td>67.734359</td>\n",
       "      <td>77.760914</td>\n",
       "    </tr>\n",
       "    <tr>\n",
       "      <th>chill</th>\n",
       "      <td>0.257290</td>\n",
       "      <td>0.018596</td>\n",
       "      <td>0.026602</td>\n",
       "      <td>0.013091</td>\n",
       "    </tr>\n",
       "    <tr>\n",
       "      <th>anime</th>\n",
       "      <td>0.085763</td>\n",
       "      <td>0.003248</td>\n",
       "      <td>0.003957</td>\n",
       "      <td>0.002661</td>\n",
       "    </tr>\n",
       "    <tr>\n",
       "      <th>blue</th>\n",
       "      <td>0.771870</td>\n",
       "      <td>0.007077</td>\n",
       "      <td>0.010558</td>\n",
       "      <td>0.004896</td>\n",
       "    </tr>\n",
       "    <tr>\n",
       "      <th>children</th>\n",
       "      <td>0.257290</td>\n",
       "      <td>0.000045</td>\n",
       "      <td>0.000037</td>\n",
       "      <td>0.000532</td>\n",
       "    </tr>\n",
       "  </tbody>\n",
       "</table>\n",
       "</div>"
      ],
      "text/plain": [
       "          tracks_percentage  likes_percentage  playback_percentage  \\\n",
       "hiphop            12.692967         54.330660            67.734359   \n",
       "chill              0.257290          0.018596             0.026602   \n",
       "anime              0.085763          0.003248             0.003957   \n",
       "blue               0.771870          0.007077             0.010558   \n",
       "children           0.257290          0.000045             0.000037   \n",
       "\n",
       "          comment_percentage  \n",
       "hiphop             77.760914  \n",
       "chill               0.013091  \n",
       "anime               0.002661  \n",
       "blue                0.004896  \n",
       "children            0.000532  "
      ]
     },
     "execution_count": 16,
     "metadata": {},
     "output_type": "execute_result"
    }
   ],
   "source": [
    "tracks_count       = df_track_2020['track_genre'].explode().value_counts()\n",
    "tracks_percentage  = tracks_count.apply(lambda x: x * 100.0 / total_tracks_count)\n",
    "tracks_percentage  = tracks_percentage.radd(pd.Series(dict(zip(keywords, [0 for keyword in keywords]))), fill_value = 0)\n",
    "\n",
    "likes_count      = df_track_2020.explode('track_genre').groupby(['track_genre'])['likes_count'].sum()\n",
    "likes_percentage = likes_count.apply(lambda x: x * 100.0 / total_likes_count)\n",
    "likes_percentage = likes_percentage.radd(pd.Series(dict(zip(keywords, [0 for keyword in keywords]))), fill_value = 0)\n",
    "\n",
    "playback_count = df_track_2020.explode('track_genre').groupby(['track_genre'])['playback_count'].sum()\n",
    "playback_percentage = playback_count.apply(lambda x: x * 100.0 / total_playback_count)\n",
    "playback_percentage = playback_percentage.radd(pd.Series(dict(zip(keywords, [0 for keyword in keywords]))), fill_value = 0)\n",
    "\n",
    "comment_count  = df_track_2020.explode('track_genre').groupby(['track_genre'])['comment_count'].sum()\n",
    "comment_percentage = comment_count.apply(lambda x: x * 100.0 / total_comment_count)\n",
    "comment_percentage = comment_percentage.radd(pd.Series(dict(zip(keywords, [0 for keyword in keywords]))), fill_value = 0)\n",
    "\n",
    "df_track_genre_stat = pd.DataFrame([pd.Series({'tracks_percentage':tracks_percentage[genre], 'likes_percentage':likes_percentage[genre], 'playback_percentage':playback_percentage[genre], 'comment_percentage':comment_percentage[genre]}) for genre in keywords], index = keywords)\n",
    "df_track_genre_stat.head()"
   ]
  },
  {
   "cell_type": "markdown",
   "metadata": {},
   "source": [
    "### Bước 3: Vẽ biểu đồ và nhận xét"
   ]
  },
  {
   "cell_type": "code",
   "execution_count": 43,
   "metadata": {},
   "outputs": [
    {
     "data": {
      "text/plain": [
       "<BarContainer object of 15 artists>"
      ]
     },
     "execution_count": 43,
     "metadata": {},
     "output_type": "execute_result"
    },
    {
     "data": {
      "image/png": "[encoded data removed]",
      "text/plain": [
       "<Figure size 1440x1440 with 4 Axes>"
      ]
     },
     "metadata": {
      "needs_background": "light"
     },
     "output_type": "display_data"
    }
   ],
   "source": [
    "fig, axs = plt.subplots(2, 2, figsize = (20, 20))\n",
    "\n",
    "df_track_genre_stat = df_track_genre_stat.sort_values('tracks_percentage', ascending = False)\n",
    "axs[0, 0].set_title('Tracks percentage of each genre')\n",
    "axs[0, 0].set(xlabel = 'Tracks percentage', ylabel = 'Genre')\n",
    "axs[0, 0].invert_yaxis()\n",
    "axs[0, 0].barh(df_track_genre_stat.index[:15], df_track_genre_stat['tracks_percentage'][:15])\n",
    "\n",
    "\n",
    "df_track_genre_stat = df_track_genre_stat.sort_values('likes_percentage', ascending = False)\n",
    "axs[0, 1].set_title('Likes percentage of each genre')\n",
    "axs[0, 1].set(xlabel = 'Likes percentage', ylabel = 'Genre')\n",
    "axs[0, 1].invert_yaxis()\n",
    "axs[0, 1].barh(df_track_genre_stat.index[:15], df_track_genre_stat['likes_percentage'][:15])\n",
    "\n",
    "df_track_genre_stat = df_track_genre_stat.sort_values('playback_percentage', ascending = False)\n",
    "axs[1, 0].set_title('Playback percentage of each genre')\n",
    "axs[1, 0].set(xlabel = 'Playback percentage', ylabel = 'Genre')\n",
    "axs[1, 0].invert_yaxis()\n",
    "axs[1, 0].barh(df_track_genre_stat.index[:15], df_track_genre_stat['playback_percentage'][:15])\n",
    "\n",
    "df_track_genre_stat = df_track_genre_stat.sort_values('comment_percentage', ascending = False)\n",
    "axs[1, 1].set_title('Comment percentage of each genre')\n",
    "axs[1, 1].set(xlabel = 'Comment percentage', ylabel = 'Genre')\n",
    "axs[1, 1].invert_yaxis()\n",
    "axs[1, 1].barh(df_track_genre_stat.index[:15], df_track_genre_stat['comment_percentage'][:15])"
   ]
  },
  {
   "cell_type": "markdown",
   "metadata": {},
   "source": [
    "**Kết quả (từ trái qua phải, từ trên xuống dưới):** \n",
    "\n",
    "Top 3 thể loại nhạc phổ biến năm 2020: \n",
    "1. Hiphop\n",
    "2. Rap\n",
    "3. Dance\n",
    " \n",
    "Top 3 thể loại nhạc được yêu thích nhiều nhất năm 2020: \n",
    "1. Hiphop\n",
    "2. Rap\n",
    "3. Reggae\n",
    "\n",
    "Top 3 thể loại nhạc được nghe nhiều nhất năm 2020\n",
    "1. Hiphop\n",
    "2. Rap\n",
    "3. Reggae\n",
    "\n",
    "Top 3 thể loại nhạc có nhiều tương tác nhất năm 2020\n",
    "1. Hiphop\n",
    "2. Rap\n",
    "3. Dance\n",
    "\n",
    "**Kết luận:** Nhạc hiphop là thể loại nhạc được ưa chuộng nhiều nhất vào năm 2020."
   ]
  },
  {
   "cell_type": "markdown",
   "metadata": {},
   "source": [
    "## 2. Thể loại phổ biến nhất tại khu vực châu Âu"
   ]
  },
  {
   "cell_type": "markdown",
   "metadata": {},
   "source": [
    "- **Mục đích:** Trả lời được câu hỏi này giúp ta biết được xu hướng âm nhạc tại châu Âu trong các năm qua.\n",
    "- **Bộ dữ liệu**: track.csv và user.csv\n",
    "- **Các bước thực hiện:**\n",
    "- Xác định các track từ châu Âu (kết quả lưu vào `df_track_europe`)\n",
    "- Thống kê phần trăm số track thuộc mỗi thể loại so với tổng số track tìm được, tỉ lệ này ứng với độ phổ biến của mỗi thể loại (kết quả lưu vào `tracks_percentage`)\n",
    "- Vẽ biểu đồ cột và nhận xét"
   ]
  },
  {
   "cell_type": "markdown",
   "metadata": {},
   "source": [
    "**Tiền xử lý thêm:** Thêm thuộc tính `country_code` vào từng track của `df_track` (`country_code` được lấy từ tác giả tương ứng của track) "
   ]
  },
  {
   "cell_type": "code",
   "execution_count": 18,
   "metadata": {},
   "outputs": [
    {
     "data": {
      "text/html": [
       "<div>\n",
       "<style scoped>\n",
       "    .dataframe tbody tr th:only-of-type {\n",
       "        vertical-align: middle;\n",
       "    }\n",
       "\n",
       "    .dataframe tbody tr th {\n",
       "        vertical-align: top;\n",
       "    }\n",
       "\n",
       "    .dataframe thead th {\n",
       "        text-align: right;\n",
       "    }\n",
       "</style>\n",
       "<table border=\"1\" class=\"dataframe\">\n",
       "  <thead>\n",
       "    <tr style=\"text-align: right;\">\n",
       "      <th></th>\n",
       "      <th>track_id</th>\n",
       "      <th>track_name</th>\n",
       "      <th>track_genre</th>\n",
       "      <th>author_id</th>\n",
       "      <th>likes_count</th>\n",
       "      <th>playback_count</th>\n",
       "      <th>download_count</th>\n",
       "      <th>reposts_count</th>\n",
       "      <th>comment_count</th>\n",
       "      <th>created_date</th>\n",
       "      <th>country_code</th>\n",
       "    </tr>\n",
       "  </thead>\n",
       "  <tbody>\n",
       "    <tr>\n",
       "      <th>0</th>\n",
       "      <td>1157194048</td>\n",
       "      <td>Polo G - Bad Man (Smooth Criminal)</td>\n",
       "      <td>[hiphop]</td>\n",
       "      <td>454955073</td>\n",
       "      <td>104933</td>\n",
       "      <td>3656798</td>\n",
       "      <td>0</td>\n",
       "      <td>1484</td>\n",
       "      <td>2949</td>\n",
       "      <td>2021-11-10 00:16:07+00:00</td>\n",
       "      <td>US</td>\n",
       "    </tr>\n",
       "    <tr>\n",
       "      <th>1</th>\n",
       "      <td>1134572425</td>\n",
       "      <td>Who Want Smoke?? (feat. G Herbo, Lil Durk &amp; 21...</td>\n",
       "      <td>[hiphop]</td>\n",
       "      <td>811818505</td>\n",
       "      <td>229321</td>\n",
       "      <td>11713134</td>\n",
       "      <td>0</td>\n",
       "      <td>2994</td>\n",
       "      <td>7358</td>\n",
       "      <td>2021-10-01 21:15:32+00:00</td>\n",
       "      <td>US</td>\n",
       "    </tr>\n",
       "    <tr>\n",
       "      <th>2</th>\n",
       "      <td>1126802848</td>\n",
       "      <td>Rocc Climbing (feat. Lil Yachty)</td>\n",
       "      <td>[hiphop, rap]</td>\n",
       "      <td>277094000</td>\n",
       "      <td>191418</td>\n",
       "      <td>8635832</td>\n",
       "      <td>0</td>\n",
       "      <td>9338</td>\n",
       "      <td>3428</td>\n",
       "      <td>2021-09-18 08:16:48+00:00</td>\n",
       "      <td>US</td>\n",
       "    </tr>\n",
       "    <tr>\n",
       "      <th>3</th>\n",
       "      <td>1163320396</td>\n",
       "      <td>By Your Side</td>\n",
       "      <td>[rap]</td>\n",
       "      <td>29550459</td>\n",
       "      <td>84417</td>\n",
       "      <td>2861345</td>\n",
       "      <td>0</td>\n",
       "      <td>952</td>\n",
       "      <td>1064</td>\n",
       "      <td>2021-11-19 21:15:58+00:00</td>\n",
       "      <td>NaN</td>\n",
       "    </tr>\n",
       "    <tr>\n",
       "      <th>4</th>\n",
       "      <td>1150594213</td>\n",
       "      <td>Super Gremlin</td>\n",
       "      <td>[hiphop, rap]</td>\n",
       "      <td>72181005</td>\n",
       "      <td>180822</td>\n",
       "      <td>6808317</td>\n",
       "      <td>0</td>\n",
       "      <td>1826</td>\n",
       "      <td>2265</td>\n",
       "      <td>2021-10-30 03:48:49+00:00</td>\n",
       "      <td>NaN</td>\n",
       "    </tr>\n",
       "  </tbody>\n",
       "</table>\n",
       "</div>"
      ],
      "text/plain": [
       "     track_id                                         track_name  \\\n",
       "0  1157194048                 Polo G - Bad Man (Smooth Criminal)   \n",
       "1  1134572425  Who Want Smoke?? (feat. G Herbo, Lil Durk & 21...   \n",
       "2  1126802848                   Rocc Climbing (feat. Lil Yachty)   \n",
       "3  1163320396                                       By Your Side   \n",
       "4  1150594213                                      Super Gremlin   \n",
       "\n",
       "     track_genre  author_id  likes_count  playback_count  download_count  \\\n",
       "0       [hiphop]  454955073       104933         3656798               0   \n",
       "1       [hiphop]  811818505       229321        11713134               0   \n",
       "2  [hiphop, rap]  277094000       191418         8635832               0   \n",
       "3          [rap]   29550459        84417         2861345               0   \n",
       "4  [hiphop, rap]   72181005       180822         6808317               0   \n",
       "\n",
       "   reposts_count  comment_count              created_date country_code  \n",
       "0           1484           2949 2021-11-10 00:16:07+00:00           US  \n",
       "1           2994           7358 2021-10-01 21:15:32+00:00           US  \n",
       "2           9338           3428 2021-09-18 08:16:48+00:00           US  \n",
       "3            952           1064 2021-11-19 21:15:58+00:00          NaN  \n",
       "4           1826           2265 2021-10-30 03:48:49+00:00          NaN  "
      ]
     },
     "execution_count": 18,
     "metadata": {},
     "output_type": "execute_result"
    }
   ],
   "source": [
    "def country_code(track):\n",
    "    user = df_user[df_user['user_id'] == track['author_id']]\n",
    "    if len(user) == 0:\n",
    "        return np.nan\n",
    "    return user.iloc[0]['country_code']\n",
    "\n",
    "df_track['country_code'] = df_track.apply(country_code, axis = 1)\n",
    "df_track.head()"
   ]
  },
  {
   "cell_type": "markdown",
   "metadata": {},
   "source": [
    "### Bước 1: Xác định các track từ châu Âu\n",
    "\n",
    "Danh sách mã Alpha-2 các nước châu Âu: https://abbreviations.yourdictionary.com/articles/list-of-europe-country-codes.html"
   ]
  },
  {
   "cell_type": "code",
   "execution_count": 19,
   "metadata": {},
   "outputs": [
    {
     "data": {
      "text/html": [
       "<div>\n",
       "<style scoped>\n",
       "    .dataframe tbody tr th:only-of-type {\n",
       "        vertical-align: middle;\n",
       "    }\n",
       "\n",
       "    .dataframe tbody tr th {\n",
       "        vertical-align: top;\n",
       "    }\n",
       "\n",
       "    .dataframe thead th {\n",
       "        text-align: right;\n",
       "    }\n",
       "</style>\n",
       "<table border=\"1\" class=\"dataframe\">\n",
       "  <thead>\n",
       "    <tr style=\"text-align: right;\">\n",
       "      <th></th>\n",
       "      <th>track_id</th>\n",
       "      <th>track_name</th>\n",
       "      <th>track_genre</th>\n",
       "      <th>author_id</th>\n",
       "      <th>likes_count</th>\n",
       "      <th>playback_count</th>\n",
       "      <th>download_count</th>\n",
       "      <th>reposts_count</th>\n",
       "      <th>comment_count</th>\n",
       "      <th>created_date</th>\n",
       "      <th>country_code</th>\n",
       "    </tr>\n",
       "  </thead>\n",
       "  <tbody>\n",
       "    <tr>\n",
       "      <th>35</th>\n",
       "      <td>636296325</td>\n",
       "      <td>Paths</td>\n",
       "      <td>[jazz]</td>\n",
       "      <td>47192613</td>\n",
       "      <td>422</td>\n",
       "      <td>80472</td>\n",
       "      <td>0</td>\n",
       "      <td>12</td>\n",
       "      <td>9</td>\n",
       "      <td>2019-06-13 21:59:16+00:00</td>\n",
       "      <td>NO</td>\n",
       "    </tr>\n",
       "    <tr>\n",
       "      <th>36</th>\n",
       "      <td>593821473</td>\n",
       "      <td>Flowering</td>\n",
       "      <td>[lofi]</td>\n",
       "      <td>47192613</td>\n",
       "      <td>451</td>\n",
       "      <td>78548</td>\n",
       "      <td>0</td>\n",
       "      <td>9</td>\n",
       "      <td>4</td>\n",
       "      <td>2019-03-21 23:02:34+00:00</td>\n",
       "      <td>NO</td>\n",
       "    </tr>\n",
       "    <tr>\n",
       "      <th>38</th>\n",
       "      <td>593822025</td>\n",
       "      <td>Adolescence</td>\n",
       "      <td>[lofi]</td>\n",
       "      <td>47192613</td>\n",
       "      <td>223</td>\n",
       "      <td>63022</td>\n",
       "      <td>0</td>\n",
       "      <td>3</td>\n",
       "      <td>1</td>\n",
       "      <td>2019-03-21 23:03:34+00:00</td>\n",
       "      <td>NO</td>\n",
       "    </tr>\n",
       "    <tr>\n",
       "      <th>59</th>\n",
       "      <td>473421939</td>\n",
       "      <td>last light</td>\n",
       "      <td>[lofi]</td>\n",
       "      <td>232053386</td>\n",
       "      <td>10655</td>\n",
       "      <td>1455669</td>\n",
       "      <td>1000</td>\n",
       "      <td>277</td>\n",
       "      <td>219</td>\n",
       "      <td>2018-07-18 16:42:43+00:00</td>\n",
       "      <td>FR</td>\n",
       "    </tr>\n",
       "    <tr>\n",
       "      <th>66</th>\n",
       "      <td>453244743</td>\n",
       "      <td>What's Your Name</td>\n",
       "      <td>[chill, lofi]</td>\n",
       "      <td>308816878</td>\n",
       "      <td>5776</td>\n",
       "      <td>1137473</td>\n",
       "      <td>0</td>\n",
       "      <td>135</td>\n",
       "      <td>106</td>\n",
       "      <td>2018-06-03 19:35:50+00:00</td>\n",
       "      <td>GB</td>\n",
       "    </tr>\n",
       "  </tbody>\n",
       "</table>\n",
       "</div>"
      ],
      "text/plain": [
       "     track_id        track_name    track_genre  author_id  likes_count  \\\n",
       "35  636296325             Paths         [jazz]   47192613          422   \n",
       "36  593821473         Flowering         [lofi]   47192613          451   \n",
       "38  593822025       Adolescence         [lofi]   47192613          223   \n",
       "59  473421939        last light         [lofi]  232053386        10655   \n",
       "66  453244743  What's Your Name  [chill, lofi]  308816878         5776   \n",
       "\n",
       "    playback_count  download_count  reposts_count  comment_count  \\\n",
       "35           80472               0             12              9   \n",
       "36           78548               0              9              4   \n",
       "38           63022               0              3              1   \n",
       "59         1455669            1000            277            219   \n",
       "66         1137473               0            135            106   \n",
       "\n",
       "                created_date country_code  \n",
       "35 2019-06-13 21:59:16+00:00           NO  \n",
       "36 2019-03-21 23:02:34+00:00           NO  \n",
       "38 2019-03-21 23:03:34+00:00           NO  \n",
       "59 2018-07-18 16:42:43+00:00           FR  \n",
       "66 2018-06-03 19:35:50+00:00           GB  "
      ]
     },
     "execution_count": 19,
     "metadata": {},
     "output_type": "execute_result"
    }
   ],
   "source": [
    "europe_country_codes = [\n",
    "    # EU\n",
    "    'AT', 'BE', 'BG', 'HR', 'CY', 'CZ', 'DK', 'EE', 'FI', 'FR', \n",
    "    'DE', 'GR', 'HU', 'IE', 'IT', 'LV', 'LT', 'LU', 'MT', 'NL',\n",
    "    'PL', 'RO', 'SK', 'SI', 'ES', 'SE', \n",
    "    \n",
    "    # Non-EU\n",
    "    'AL', 'AD', 'AM', 'BY', 'BA', 'FO', 'GE', 'GI', 'IS', 'IM',\n",
    "    'XK', 'LI', 'MK', 'MD', 'MC', 'ME', 'NO', 'RU', 'SM', 'RS',\n",
    "    'CH', 'TR', 'UA', 'GB', 'VA'\n",
    "]\n",
    "\n",
    "df_track_europe = df_track[df_track['country_code'].isin(europe_country_codes)]\n",
    "df_track_europe.head()"
   ]
  },
  {
   "cell_type": "markdown",
   "metadata": {},
   "source": [
    "### Bước 2: Tính phần trăm số track thuộc mỗi thể loại"
   ]
  },
  {
   "cell_type": "code",
   "execution_count": 20,
   "metadata": {},
   "outputs": [],
   "source": [
    "total_tracks_count = len(df_track_europe)\n",
    "tracks_count = df_track_europe['track_genre'].explode().value_counts()\n",
    "tracks_percentage = tracks_count.apply(lambda x: x * 100.0 / total_tracks_count)\n",
    "tracks_percentage = tracks_percentage.radd(pd.Series(dict(zip(keywords, [0 for keyword in keywords]))), fill_value = 0)"
   ]
  },
  {
   "cell_type": "markdown",
   "metadata": {},
   "source": [
    "### Bước 3: Vẽ biểu đồ và nhận xét"
   ]
  },
  {
   "cell_type": "code",
   "execution_count": 21,
   "metadata": {},
   "outputs": [
    {
     "data": {
      "text/plain": [
       "<BarContainer object of 50 artists>"
      ]
     },
     "execution_count": 21,
     "metadata": {},
     "output_type": "execute_result"
    },
    {
     "data": {
      "image/png": "[encoded data removed]",
      "text/plain": [
       "<Figure size 1080x720 with 1 Axes>"
      ]
     },
     "metadata": {
      "needs_background": "light"
     },
     "output_type": "display_data"
    }
   ],
   "source": [
    "plt.figure(figsize = (15, 10))\n",
    "\n",
    "plt.title(\"Tracks percentage of each genre\")\n",
    "plt.ylabel(\"Genre\")\n",
    "plt.xlabel(\"Tracks percentage\")\n",
    "tracks_percentage = tracks_percentage.sort_values(ascending = True)\n",
    "plt.barh(tracks_percentage.index, tracks_percentage)"
   ]
  },
  {
   "cell_type": "markdown",
   "metadata": {},
   "source": [
    "**Kết quả:** \n",
    "\n",
    "Top 3 thể loại phổ biến nhất châu Âu:\n",
    "1. House\n",
    "2. Dance\n",
    "3. Electro\n",
    "\n",
    "**Kết luận:** Thể loại House là thể loại nhạc phổ biến nhất châu Âu."
   ]
  },
  {
   "cell_type": "markdown",
   "metadata": {},
   "source": [
    "## 3. Xét 1 playlist, có mối tương quan nào giữa số lượt thích và số lượt chia sẻ ? "
   ]
  },
  {
   "cell_type": "markdown",
   "metadata": {},
   "source": [
    "- **Mục đích**: Nếu số lượt thích (`likes_count`) và số lượt chia sẻ (`reposts_count`) tương quan dương, mạnh (cùng tăng - đó là điều ta mong muốn) thì <u>1 trong số các khả năng</u> gây ra mối tương quan dương, mạnh này đó là: nhiều likes đồng nghĩa với nhiều lượt chia sẻ, như vậy playlist đó sẽ được quảng bá tới nhiều người hơn trên SoundCloud \n",
    "- **Bộ dữ liệu**: playlist.csv\n",
    "- **Các bước thực hiện**:\n",
    "    - Vẽ biểu đồ scatter trực quan hóa mối quan hệ giữa số lượt thích và số lượt chia sẻ\n",
    "    - Tính toán ma trận tương quan (correlation matrix)"
   ]
  },
  {
   "cell_type": "markdown",
   "metadata": {},
   "source": [
    "### Bước 1: Vẽ biểu đồ scatter trực quan hóa mối quan hệ giữa số lượt thích và số lượt chia sẻ"
   ]
  },
  {
   "cell_type": "code",
   "execution_count": 22,
   "metadata": {},
   "outputs": [
    {
     "data": {
      "image/png": "[encoded data removed]",
      "text/plain": [
       "<Figure size 720x504 with 1 Axes>"
      ]
     },
     "metadata": {
      "needs_background": "light"
     },
     "output_type": "display_data"
    }
   ],
   "source": [
    "plt.figure(figsize=(10,7))\n",
    "plt.grid()\n",
    "plt.scatter(df_playlist['likes_count'], df_playlist['reposts_count'], edgecolors='black')\n",
    "plt.xlabel('Số lượt thích (likes_count)') \n",
    "plt.ylabel('Số lượt chia sẻ (reposts_count)');\n",
    "plt.title('Mối tương quan giữa số lượt thích (likes_count) và số lượt chia sẻ (reposts_count)');\n",
    "# plt.axvline(np.mean(df_playlist['likes_count']), color='r', linestyle='--') # lượt like TB"
   ]
  },
  {
   "cell_type": "markdown",
   "metadata": {},
   "source": [
    "**Nhận xét**: Từ quan sát đồ thị tương quan phía dưới, thấy rằng mối quan hệ giữa `số lượt thích` (biến ngẫu nhiên A) và `số lượt chia sẻ` (biến ngẫu nhiên B) gần như là 1 đường tuyến tính. A và B tỷ lệ thuận, tuy nhiên mối quan hệ chỉ thực sự mạnh khi A và B dưới 200.000, còn A và B bắt đầu trên 200.000 thì các điểm dữ liệu thưa thớt dần chứng tỏ mối tương quan càng yếu dần, nghĩa là A và B ngày càng không liên quan tới nhau khi 1 trong 2 biến đạt ít nhất 200.000. Hoặc đơn giản là từ 200.000 trở đi xuất hiện các outliers"
   ]
  },
  {
   "cell_type": "markdown",
   "metadata": {},
   "source": [
    "### Bước 2: Lập ma trận tương quan\n",
    "- Để thể hiện sự tương quan giữa A và B bằng 1 con số, ta dùng ma trận tương quan `Pearson correlation matrix`, thấy rằng độ tương quan là ~0.934 tức tương quan dương khá mạnh."
   ]
  },
  {
   "cell_type": "code",
   "execution_count": 23,
   "metadata": {},
   "outputs": [
    {
     "data": {
      "text/html": [
       "<div>\n",
       "<style scoped>\n",
       "    .dataframe tbody tr th:only-of-type {\n",
       "        vertical-align: middle;\n",
       "    }\n",
       "\n",
       "    .dataframe tbody tr th {\n",
       "        vertical-align: top;\n",
       "    }\n",
       "\n",
       "    .dataframe thead th {\n",
       "        text-align: right;\n",
       "    }\n",
       "</style>\n",
       "<table border=\"1\" class=\"dataframe\">\n",
       "  <thead>\n",
       "    <tr style=\"text-align: right;\">\n",
       "      <th></th>\n",
       "      <th>likes_count</th>\n",
       "      <th>reposts_count</th>\n",
       "    </tr>\n",
       "  </thead>\n",
       "  <tbody>\n",
       "    <tr>\n",
       "      <th>likes_count</th>\n",
       "      <td>1.000000</td>\n",
       "      <td>0.934027</td>\n",
       "    </tr>\n",
       "    <tr>\n",
       "      <th>reposts_count</th>\n",
       "      <td>0.934027</td>\n",
       "      <td>1.000000</td>\n",
       "    </tr>\n",
       "  </tbody>\n",
       "</table>\n",
       "</div>"
      ],
      "text/plain": [
       "               likes_count  reposts_count\n",
       "likes_count       1.000000       0.934027\n",
       "reposts_count     0.934027       1.000000"
      ]
     },
     "execution_count": 23,
     "metadata": {},
     "output_type": "execute_result"
    }
   ],
   "source": [
    "likes_reposts = df_playlist[['likes_count', 'reposts_count']]\n",
    "likes_reposts.corr(method = 'pearson')"
   ]
  },
  {
   "cell_type": "markdown",
   "metadata": {},
   "source": [
    "## 4. Có tồn tại mối quan hệ nào giữa số lượng track mà 1 người dùng xác thực (verified user) đăng lên SoundCloud và số lượng người theo dõi của user ấy? "
   ]
  },
  {
   "cell_type": "markdown",
   "metadata": {},
   "source": [
    "- **Người dùng xác thực (verified user)**: Theo SoundCloud (https://help.soundcloud.com/hc/en-us/articles/360058973693-Profile-verification-) thì người dùng xác thực có thể được coi như một nghệ sỹ nổi tiếng trên nền tảng. Đó là lý do ta sẽ làm việc với duy nhất các verified user, còn những người dùng không thuộc nhóm verified user thì không được xét tới\n",
    "- **Mục đích**: Nếu có tồn tại mối tương quan dương, mạnh giữa số track (`tracks_count`) và số lượng người theo dõi (`followers_count`) của 1 người nổi tiếng (`verified user`) trên SoundCloud thì <u>1 trong các khả năng</u> gây ra mối tương quan dương, mạnh này là nhiều track sẽ đồng nghĩa với nhiều người theo dõi\n",
    "- **Bộ dữ liệu**: user.csv"
   ]
  },
  {
   "cell_type": "code",
   "execution_count": 26,
   "metadata": {},
   "outputs": [
    {
     "data": {
      "image/png": "[encoded data removed]",
      "text/plain": [
       "<Figure size 864x504 with 1 Axes>"
      ]
     },
     "metadata": {
      "needs_background": "light"
     },
     "output_type": "display_data"
    }
   ],
   "source": [
    "verified_users = df_user[df_user['verified'] == True]\n",
    "verified_users\n",
    "\n",
    "plt.figure(figsize=(12,7))\n",
    "plt.grid()\n",
    "plt.scatter(verified_users['followers_count'], verified_users['track_count'], edgecolors='black')\n",
    "plt.xlabel('Số lượng người theo dõi (followers_count)')\n",
    "plt.ylabel('Số lượng track (track_count)')\n",
    "plt.title('Mối tương quan giữa số lượng track và số lượng người theo dõi của 1 người nổi tiếng');"
   ]
  },
  {
   "cell_type": "markdown",
   "metadata": {},
   "source": [
    "**Nhận xét**: Từ biểu đồ, dễ thấy không có mối liên quan, hoặc liên quan rất ít giữa số người theo dõi và số track đăng tải của nghệ sỹ. Ma trận tương quan Pearson ở dưới cũng thể hiện điều đó (độ tương quan ~0.02)"
   ]
  },
  {
   "cell_type": "code",
   "execution_count": 45,
   "metadata": {},
   "outputs": [
    {
     "data": {
      "text/html": [
       "<div>\n",
       "<style scoped>\n",
       "    .dataframe tbody tr th:only-of-type {\n",
       "        vertical-align: middle;\n",
       "    }\n",
       "\n",
       "    .dataframe tbody tr th {\n",
       "        vertical-align: top;\n",
       "    }\n",
       "\n",
       "    .dataframe thead th {\n",
       "        text-align: right;\n",
       "    }\n",
       "</style>\n",
       "<table border=\"1\" class=\"dataframe\">\n",
       "  <thead>\n",
       "    <tr style=\"text-align: right;\">\n",
       "      <th></th>\n",
       "      <th>followers_count</th>\n",
       "      <th>track_count</th>\n",
       "    </tr>\n",
       "  </thead>\n",
       "  <tbody>\n",
       "    <tr>\n",
       "      <th>followers_count</th>\n",
       "      <td>1.0000</td>\n",
       "      <td>0.0217</td>\n",
       "    </tr>\n",
       "    <tr>\n",
       "      <th>track_count</th>\n",
       "      <td>0.0217</td>\n",
       "      <td>1.0000</td>\n",
       "    </tr>\n",
       "  </tbody>\n",
       "</table>\n",
       "</div>"
      ],
      "text/plain": [
       "                 followers_count  track_count\n",
       "followers_count           1.0000       0.0217\n",
       "track_count               0.0217       1.0000"
      ]
     },
     "execution_count": 45,
     "metadata": {},
     "output_type": "execute_result"
    }
   ],
   "source": [
    "verified_users[['followers_count', 'track_count']].corr(method='pearson')"
   ]
  },
  {
   "cell_type": "markdown",
   "metadata": {},
   "source": [
    "## 5. Mối tương quan giữa likes_count, playback_count, download_count, reposts_count, comment_count"
   ]
  },
  {
   "cell_type": "markdown",
   "metadata": {},
   "source": [
    "**Mục đích**: Các cách thể hiện sự yêu thích của user đối với 1 track có quan hệ với nhau hay không. Các cách thể hiện sự yêu thích bao gồm: qua lượt thích (`likes_count`), lượt nghe (`playback_count`), lượt tải (`download_count`), lượt chia sẻ (`reposts_count`), lượt bình luận (`comment_count`).\n",
    "\n",
    "**Bộ dữ liệu:** track.csv"
   ]
  },
  {
   "cell_type": "code",
   "execution_count": 28,
   "metadata": {},
   "outputs": [
    {
     "data": {
      "image/png": "[encoded data removed]",
      "text/plain": [
       "<Figure size 720x504 with 2 Axes>"
      ]
     },
     "metadata": {
      "needs_background": "light"
     },
     "output_type": "display_data"
    }
   ],
   "source": [
    "df = df_track[['likes_count','playback_count','download_count','reposts_count','comment_count']]\n",
    "corr = df.corr(method='pearson')\n",
    "plt.figure(figsize=(10,7))\n",
    "\n",
    "g = sns.heatmap(corr, annot=True, cmap=\"YlGnBu\")\n",
    "g.set_xticklabels(g.get_xticklabels(), rotation=30)\n",
    "g.set_title('Ma trận tương quan giữa 5 thuộc tính numeric');"
   ]
  },
  {
   "cell_type": "markdown",
   "metadata": {},
   "source": [
    "**Nhận xét:** Từ ma trận tương quan, dễ thấy ngay biến `download_counts` có tương quan dương rất yếu với các biến còn lại. Xét 4 biến còn lại, thấy rằng chúng đều có tương quan lẫn nhau và tương quan khá mạnh. Tuy nhiên để biết con số trên có thực sự thể hiện mối quan hệ \"mạnh\" như ta nghĩ hay không, ta cần phải vẽ đồ thị cho chúng."
   ]
  },
  {
   "cell_type": "code",
   "execution_count": 29,
   "metadata": {},
   "outputs": [
    {
     "data": {
      "image/png": "[encoded data removed]",
      "text/plain": [
       "<Figure size 720x720 with 20 Axes>"
      ]
     },
     "metadata": {
      "needs_background": "light"
     },
     "output_type": "display_data"
    }
   ],
   "source": [
    "df = df_track[['likes_count', 'playback_count', 'reposts_count', 'comment_count']]\n",
    "g = sns.pairplot(df, diag_kind=\"kde\") # corner=True to plot only the lower triangle\n",
    "# g.fig.set_size_inches(15,15)"
   ]
  },
  {
   "cell_type": "markdown",
   "metadata": {},
   "source": [
    "**Nhận xét:** Chỉ có tương quan giữa `playback_count` & `likes_count` là tương quan dương và gần như là 1 đường thẳng chứng tỏ quan hệ mạnh. Còn các mối tương quan còn lại, ví dụ như cặp `repost_count` và `likes_count` (và các cặp có kiểu hình scatter tương tự) thì tương quan phân tán khá nhiều nên không thể coi là tương quan mạnh, hay cặp `likes_count` và `comment_count` thì tương đổi mạnh khi 1 trong 2 biến này nằm trong khoảng [0, 1e6], còn ngoài khoảng đó thì bắt đầu phân tán và tương quan yếu dần."
   ]
  },
  {
   "cell_type": "markdown",
   "metadata": {},
   "source": [
    "## 6. Mùa nào trong 4 mùa là mùa có nhiều bài hát được sáng tác và đăng tải nhất?"
   ]
  },
  {
   "cell_type": "markdown",
   "metadata": {},
   "source": [
    "- **Mục đích**: nắm rõ thời điểm đăng tải nhạc của những nghệ sỹ nổi tiếng. Đặt trường hợp ta làm cho 1 công ty giải trí thì việc hỏi câu hỏi này giúp ta định hướng nghệ sỹ của công ty đăng các bản track vào mùa không trùng với mùa của nghệ sỹ nổi tiếng để tăng lượng người nghe lên nhiều nhất có thể\n",
    "- **Bộ dữ liệu**: track.csv và user.csv"
   ]
  },
  {
   "cell_type": "markdown",
   "metadata": {},
   "source": [
    "### Bước 1: tìm năm có nhiều track của các nghệ sỹ nhất để đảm bảo số lượng dữ liệu đủ nhiều để phục vụ câu hỏi"
   ]
  },
  {
   "cell_type": "code",
   "execution_count": 30,
   "metadata": {},
   "outputs": [
    {
     "data": {
      "text/html": [
       "<div>\n",
       "<style scoped>\n",
       "    .dataframe tbody tr th:only-of-type {\n",
       "        vertical-align: middle;\n",
       "    }\n",
       "\n",
       "    .dataframe tbody tr th {\n",
       "        vertical-align: top;\n",
       "    }\n",
       "\n",
       "    .dataframe thead th {\n",
       "        text-align: right;\n",
       "    }\n",
       "</style>\n",
       "<table border=\"1\" class=\"dataframe\">\n",
       "  <thead>\n",
       "    <tr style=\"text-align: right;\">\n",
       "      <th></th>\n",
       "      <th>n_tracks</th>\n",
       "    </tr>\n",
       "    <tr>\n",
       "      <th>created_date</th>\n",
       "      <th></th>\n",
       "    </tr>\n",
       "  </thead>\n",
       "  <tbody>\n",
       "    <tr>\n",
       "      <th>2016</th>\n",
       "      <td>2951</td>\n",
       "    </tr>\n",
       "    <tr>\n",
       "      <th>2014</th>\n",
       "      <td>2692</td>\n",
       "    </tr>\n",
       "    <tr>\n",
       "      <th>2015</th>\n",
       "      <td>2591</td>\n",
       "    </tr>\n",
       "    <tr>\n",
       "      <th>2013</th>\n",
       "      <td>1968</td>\n",
       "    </tr>\n",
       "    <tr>\n",
       "      <th>2017</th>\n",
       "      <td>1362</td>\n",
       "    </tr>\n",
       "    <tr>\n",
       "      <th>2018</th>\n",
       "      <td>962</td>\n",
       "    </tr>\n",
       "    <tr>\n",
       "      <th>2012</th>\n",
       "      <td>920</td>\n",
       "    </tr>\n",
       "    <tr>\n",
       "      <th>2019</th>\n",
       "      <td>861</td>\n",
       "    </tr>\n",
       "    <tr>\n",
       "      <th>2011</th>\n",
       "      <td>519</td>\n",
       "    </tr>\n",
       "    <tr>\n",
       "      <th>2020</th>\n",
       "      <td>496</td>\n",
       "    </tr>\n",
       "    <tr>\n",
       "      <th>2021</th>\n",
       "      <td>373</td>\n",
       "    </tr>\n",
       "    <tr>\n",
       "      <th>2010</th>\n",
       "      <td>222</td>\n",
       "    </tr>\n",
       "    <tr>\n",
       "      <th>2009</th>\n",
       "      <td>25</td>\n",
       "    </tr>\n",
       "    <tr>\n",
       "      <th>2008</th>\n",
       "      <td>2</td>\n",
       "    </tr>\n",
       "  </tbody>\n",
       "</table>\n",
       "</div>"
      ],
      "text/plain": [
       "              n_tracks\n",
       "created_date          \n",
       "2016              2951\n",
       "2014              2692\n",
       "2015              2591\n",
       "2013              1968\n",
       "2017              1362\n",
       "2018               962\n",
       "2012               920\n",
       "2019               861\n",
       "2011               519\n",
       "2020               496\n",
       "2021               373\n",
       "2010               222\n",
       "2009                25\n",
       "2008                 2"
      ]
     },
     "execution_count": 30,
     "metadata": {},
     "output_type": "execute_result"
    }
   ],
   "source": [
    "verified_users = df_user[df_user['verified'] == True]\n",
    "track_of_artists = df_track.loc[df_track['author_id'].isin(verified_users['user_id'])]\n",
    "track_of_artists.groupby(track_of_artists['created_date'].dt.year).agg(n_tracks = ('track_id','count')).sort_values(by='n_tracks', ascending=False)"
   ]
  },
  {
   "cell_type": "markdown",
   "metadata": {},
   "source": [
    "Từ kết quả, chọn năm 2016"
   ]
  },
  {
   "cell_type": "code",
   "execution_count": 31,
   "metadata": {},
   "outputs": [],
   "source": [
    "track_of_artists = track_of_artists.loc[track_of_artists['created_date'].dt.year == 2016]"
   ]
  },
  {
   "cell_type": "markdown",
   "metadata": {},
   "source": [
    "### Bước 2: tạo thêm cột `season` ở mỗi dòng để thể hiện track đó được đăng tải vào mùa nào. Mùa nào ứng với tháng mấy có thể coi ở đây: https://www.vntrip.vn/cam-nang/cac-mua-trong-nam-xuan-ha-thu-dong-tu-thang-may-den-thang-may-106063"
   ]
  },
  {
   "cell_type": "code",
   "execution_count": 32,
   "metadata": {},
   "outputs": [],
   "source": [
    "def is_season(date):\n",
    "    if date.month in [3,4,5]: return 'spring'\n",
    "    if date.month in [6,7,8]: return 'summer'\n",
    "    if date.month in [9,10,11]: return 'fall'\n",
    "    if date.month in [12,1,2]: return 'winter'\n",
    "track_of_artists['season'] = track_of_artists.apply(lambda row: is_season(row['created_date']), axis=1)"
   ]
  },
  {
   "cell_type": "markdown",
   "metadata": {},
   "source": [
    "### Bước 3: Trực quan hóa số lượng track/mùa"
   ]
  },
  {
   "cell_type": "code",
   "execution_count": 33,
   "metadata": {},
   "outputs": [
    {
     "data": {
      "text/plain": [
       "Text(0.5, 1.0, 'Số lượng track/mùa')"
      ]
     },
     "execution_count": 33,
     "metadata": {},
     "output_type": "execute_result"
    },
    {
     "data": {
      "image/png": "[encoded data removed]",
      "text/plain": [
       "<Figure size 432x288 with 1 Axes>"
      ]
     },
     "metadata": {
      "needs_background": "light"
     },
     "output_type": "display_data"
    }
   ],
   "source": [
    "# plt.figure(figsize=(8,6))\n",
    "tmp = track_of_artists['season'].value_counts()\n",
    "plt.barh(tmp.index, tmp)\n",
    "plt.xlabel('Số lượng track')\n",
    "plt.ylabel('Mùa')\n",
    "plt.title('Số lượng track/mùa')"
   ]
  },
  {
   "cell_type": "markdown",
   "metadata": {},
   "source": [
    "**Nhận xét**: Dễ thấy rằng từ biểu đồ, nghệ sỹ của công ty nên đăng tải các bản track vào mùa thu hoặc đông vì đây là mùa có ít lượt đăng tải track nhất năm và tránh đăng tải vào mùa xuân vì mức độ cạnh tranh với các nghệ sỹ nổi tiếng khá cao"
   ]
  },
  {
   "cell_type": "markdown",
   "metadata": {},
   "source": [
    "## III. KẾT LUẬN\n",
    "\n",
    "Việc thống kê và trả lời các hỏi ở bước khám phá dữ liệu không thể hiện được tất cả, tuy nhiên vẫn đủ thể hiện được một phần nào đó những thắc mắc về những vấn đề cần quan tâm. Rào cản ở đồ án này là việc thu thập dữ liệu chưa đủ lớn, dữ liệu còn cần phải có nhiều thuộc tính hơn, không lấy hết nhưng có thể lấy tổng quát đầy đủ các track, các playlist và các user.\n",
    "\n",
    "Ngoài ra còn có một hạn chế trong quá trình khám phá dữ liệu nằm ở việc phân loại thể loại âm nhạc (`genre`) chưa thực sự thuyết phục, dữ liệu vẫn được phân loại theo quy chuẩn của tụi em, chưa thể phân loại rõ ràng chi tiết từng track và từng playlist, tuy nhiên thời gian không đủ để xử lý thu thập dữ liệu lớn (sẽ mất rất nhiều thời gian và giới hạn vẫn nằm ở việc học tập nghiên cứu) cũng như giới hạn kiến thức nên tạm thời dừng lại ở đây.\n",
    "\n",
    "Nếu còn nhiều thời gian cho đồ án, cao hơn là ứng dụng của đồ án cho thực tế thì nhóm tụi em hy vọng sẽ làm được nhiều thứ hơn, cho ra các kết quả phản ánh tốt hơn mong đợi. Tuy nhiên cũng nhìn nhận những vấn đề được xử lý theo dữ liệu sẵn vẫn khả thi để chúng ta có thể rút ra một kết luận cụ thể nào đó. "
   ]
  }
 ],
 "metadata": {
  "interpreter": {
   "hash": "dcacb0086e9a4f4eabd41c33bf4faac5ea0a3337ed3f5eff0680afa930572c04"
  },
  "kernelspec": {
   "display_name": "Python 3 (ipykernel)",
   "language": "python",
   "name": "python3"
  },
  "language_info": {
   "codemirror_mode": {
    "name": "ipython",
    "version": 3
   },
   "file_extension": ".py",
   "mimetype": "text/x-python",
   "name": "python",
   "nbconvert_exporter": "python",
   "pygments_lexer": "ipython3",
   "version": "3.9.6"
  }
 },
 "nbformat": 4,
 "nbformat_minor": 2
}
